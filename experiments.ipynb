{
 "cells": [
  {
   "attachments": {},
   "cell_type": "markdown",
   "metadata": {},
   "source": [
    "# Spotify ML Recommender"
   ]
  },
  {
   "attachments": {},
   "cell_type": "markdown",
   "metadata": {},
   "source": [
    "## Dependencies"
   ]
  },
  {
   "cell_type": "code",
   "execution_count": 2,
   "metadata": {},
   "outputs": [
    {
     "ename": "ModuleNotFoundError",
     "evalue": "No module named 'matplotlib'",
     "output_type": "error",
     "traceback": [
      "\u001b[0;31m---------------------------------------------------------------------------\u001b[0m",
      "\u001b[0;31mModuleNotFoundError\u001b[0m                       Traceback (most recent call last)",
      "Cell \u001b[0;32mIn[2], line 3\u001b[0m\n\u001b[1;32m      1\u001b[0m \u001b[39mimport\u001b[39;00m \u001b[39mnumpy\u001b[39;00m \u001b[39mas\u001b[39;00m \u001b[39mnp\u001b[39;00m\n\u001b[1;32m      2\u001b[0m \u001b[39mimport\u001b[39;00m \u001b[39mpandas\u001b[39;00m \u001b[39mas\u001b[39;00m \u001b[39mpd\u001b[39;00m\n\u001b[0;32m----> 3\u001b[0m \u001b[39mimport\u001b[39;00m \u001b[39mmatplotlib\u001b[39;00m\u001b[39m.\u001b[39;00m\u001b[39mpyplot\u001b[39;00m \u001b[39mas\u001b[39;00m \u001b[39mplt\u001b[39;00m\n",
      "\u001b[0;31mModuleNotFoundError\u001b[0m: No module named 'matplotlib'"
     ]
    }
   ],
   "source": [
    "import numpy as np\n",
    "import pandas as pd\n",
    "import matplotlib.pyplot as plt\n"
   ]
  },
  {
   "cell_type": "code",
   "execution_count": 5,
   "metadata": {},
   "outputs": [],
   "source": [
    "from dotenv import load_dotenv"
   ]
  },
  {
   "cell_type": "code",
   "execution_count": 4,
   "metadata": {},
   "outputs": [],
   "source": [
    "import spotipy\n",
    "from spotipy.oauth2 import SpotifyOAuth"
   ]
  },
  {
   "attachments": {},
   "cell_type": "markdown",
   "metadata": {},
   "source": [
    "## Import Data"
   ]
  },
  {
   "cell_type": "code",
   "execution_count": 1,
   "metadata": {},
   "outputs": [
    {
     "ename": "NameError",
     "evalue": "name 'pd' is not defined",
     "output_type": "error",
     "traceback": [
      "\u001b[0;31m---------------------------------------------------------------------------\u001b[0m",
      "\u001b[0;31mNameError\u001b[0m                                 Traceback (most recent call last)",
      "Cell \u001b[0;32mIn[1], line 1\u001b[0m\n\u001b[0;32m----> 1\u001b[0m yearly_top_df \u001b[39m=\u001b[39m pd\u001b[39m.\u001b[39mread_pickle(\u001b[39m\"\u001b[39m\u001b[39mdata/yearly_top.pkl\u001b[39m\u001b[39m\"\u001b[39m)\n",
      "\u001b[0;31mNameError\u001b[0m: name 'pd' is not defined"
     ]
    }
   ],
   "source": [
    "\n",
    "yearly_top_df = pd.read_pickle(\"data/yearly_top.pkl\")"
   ]
  },
  {
   "cell_type": "code",
   "execution_count": 11,
   "metadata": {},
   "outputs": [
    {
     "data": {
      "text/html": [
       "<div>\n",
       "<style scoped>\n",
       "    .dataframe tbody tr th:only-of-type {\n",
       "        vertical-align: middle;\n",
       "    }\n",
       "\n",
       "    .dataframe tbody tr th {\n",
       "        vertical-align: top;\n",
       "    }\n",
       "\n",
       "    .dataframe thead th {\n",
       "        text-align: right;\n",
       "    }\n",
       "</style>\n",
       "<table border=\"1\" class=\"dataframe\">\n",
       "  <thead>\n",
       "    <tr style=\"text-align: right;\">\n",
       "      <th></th>\n",
       "      <th>id</th>\n",
       "      <th>name</th>\n",
       "      <th>popularity</th>\n",
       "      <th>artist_id</th>\n",
       "      <th>artist_name</th>\n",
       "      <th>album_id</th>\n",
       "      <th>album_name</th>\n",
       "      <th>album_type</th>\n",
       "      <th>album_release</th>\n",
       "      <th>duration_ms</th>\n",
       "      <th>...</th>\n",
       "      <th>key</th>\n",
       "      <th>loudness</th>\n",
       "      <th>mode</th>\n",
       "      <th>speechiness</th>\n",
       "      <th>acousticness</th>\n",
       "      <th>instrumentalness</th>\n",
       "      <th>liveness</th>\n",
       "      <th>valence</th>\n",
       "      <th>tempo</th>\n",
       "      <th>time_signature</th>\n",
       "    </tr>\n",
       "  </thead>\n",
       "  <tbody>\n",
       "    <tr>\n",
       "      <th>0</th>\n",
       "      <td>1Ukxccao1BlWrPhYkcXbwZ</td>\n",
       "      <td>From The Start</td>\n",
       "      <td>78</td>\n",
       "      <td>7gW0r5CkdEUMm42w9XpyZO</td>\n",
       "      <td>Laufey</td>\n",
       "      <td>1BOZNMzXTIkz8nUfGCxfpe</td>\n",
       "      <td>From The Start</td>\n",
       "      <td>SINGLE</td>\n",
       "      <td>2023-05-11</td>\n",
       "      <td>169573</td>\n",
       "      <td>...</td>\n",
       "      <td>1</td>\n",
       "      <td>-7.413</td>\n",
       "      <td>1</td>\n",
       "      <td>0.0800</td>\n",
       "      <td>0.87700</td>\n",
       "      <td>0.000765</td>\n",
       "      <td>0.1100</td>\n",
       "      <td>0.743</td>\n",
       "      <td>81.890</td>\n",
       "      <td>3</td>\n",
       "    </tr>\n",
       "    <tr>\n",
       "      <th>1</th>\n",
       "      <td>3khEEPRyBeOUabbmOPJzAG</td>\n",
       "      <td>KICK BACK</td>\n",
       "      <td>84</td>\n",
       "      <td>1snhtMLeb2DYoMOcVbb8iB</td>\n",
       "      <td>Kenshi Yonezu</td>\n",
       "      <td>6RH1fEIz8HVXregzz5Xp2B</td>\n",
       "      <td>KICK BACK</td>\n",
       "      <td>SINGLE</td>\n",
       "      <td>2022-10-12</td>\n",
       "      <td>193495</td>\n",
       "      <td>...</td>\n",
       "      <td>1</td>\n",
       "      <td>-5.170</td>\n",
       "      <td>1</td>\n",
       "      <td>0.1050</td>\n",
       "      <td>0.00207</td>\n",
       "      <td>0.000003</td>\n",
       "      <td>0.0891</td>\n",
       "      <td>0.292</td>\n",
       "      <td>101.921</td>\n",
       "      <td>4</td>\n",
       "    </tr>\n",
       "    <tr>\n",
       "      <th>2</th>\n",
       "      <td>7ncPjJBktLEOpstY5JOUMK</td>\n",
       "      <td>一途</td>\n",
       "      <td>69</td>\n",
       "      <td>6wxfx1yhyqjCPYwwxJktR2</td>\n",
       "      <td>King Gnu</td>\n",
       "      <td>5sCVCfINkiQ40ozBngqGaY</td>\n",
       "      <td>一途</td>\n",
       "      <td>SINGLE</td>\n",
       "      <td>2021-12-10</td>\n",
       "      <td>190607</td>\n",
       "      <td>...</td>\n",
       "      <td>2</td>\n",
       "      <td>-4.190</td>\n",
       "      <td>1</td>\n",
       "      <td>0.1240</td>\n",
       "      <td>0.00723</td>\n",
       "      <td>0.000062</td>\n",
       "      <td>0.0557</td>\n",
       "      <td>0.662</td>\n",
       "      <td>159.971</td>\n",
       "      <td>4</td>\n",
       "    </tr>\n",
       "    <tr>\n",
       "      <th>3</th>\n",
       "      <td>1XeOqgzh2fZhmgxnmyiIJ8</td>\n",
       "      <td>残機</td>\n",
       "      <td>69</td>\n",
       "      <td>38WbKH6oKAZskBhqDFA8Uj</td>\n",
       "      <td>ZUTOMAYO</td>\n",
       "      <td>3wGoYoTJhdbkvn7WZpTqz3</td>\n",
       "      <td>残機</td>\n",
       "      <td>SINGLE</td>\n",
       "      <td>2022-10-18</td>\n",
       "      <td>230067</td>\n",
       "      <td>...</td>\n",
       "      <td>2</td>\n",
       "      <td>-2.965</td>\n",
       "      <td>1</td>\n",
       "      <td>0.0732</td>\n",
       "      <td>0.40300</td>\n",
       "      <td>0.000000</td>\n",
       "      <td>0.1190</td>\n",
       "      <td>0.849</td>\n",
       "      <td>140.981</td>\n",
       "      <td>4</td>\n",
       "    </tr>\n",
       "    <tr>\n",
       "      <th>4</th>\n",
       "      <td>4Ji17AjAdjf83FsIDcXe0J</td>\n",
       "      <td>あのバンド</td>\n",
       "      <td>62</td>\n",
       "      <td>2nvl0N9GwyX69RRBMEZ4OD</td>\n",
       "      <td>結束バンド</td>\n",
       "      <td>5ZGzGGNAB6U7QlKpdaMu0d</td>\n",
       "      <td>結束バンド</td>\n",
       "      <td>ALBUM</td>\n",
       "      <td>2022-12-25</td>\n",
       "      <td>213787</td>\n",
       "      <td>...</td>\n",
       "      <td>7</td>\n",
       "      <td>-2.762</td>\n",
       "      <td>0</td>\n",
       "      <td>0.1640</td>\n",
       "      <td>0.00110</td>\n",
       "      <td>0.000001</td>\n",
       "      <td>0.3170</td>\n",
       "      <td>0.275</td>\n",
       "      <td>190.031</td>\n",
       "      <td>4</td>\n",
       "    </tr>\n",
       "  </tbody>\n",
       "</table>\n",
       "<p>5 rows × 23 columns</p>\n",
       "</div>"
      ],
      "text/plain": [
       "                       id            name  popularity               artist_id  \\\n",
       "0  1Ukxccao1BlWrPhYkcXbwZ  From The Start          78  7gW0r5CkdEUMm42w9XpyZO   \n",
       "1  3khEEPRyBeOUabbmOPJzAG       KICK BACK          84  1snhtMLeb2DYoMOcVbb8iB   \n",
       "2  7ncPjJBktLEOpstY5JOUMK              一途          69  6wxfx1yhyqjCPYwwxJktR2   \n",
       "3  1XeOqgzh2fZhmgxnmyiIJ8              残機          69  38WbKH6oKAZskBhqDFA8Uj   \n",
       "4  4Ji17AjAdjf83FsIDcXe0J           あのバンド          62  2nvl0N9GwyX69RRBMEZ4OD   \n",
       "\n",
       "     artist_name                album_id      album_name album_type  \\\n",
       "0         Laufey  1BOZNMzXTIkz8nUfGCxfpe  From The Start     SINGLE   \n",
       "1  Kenshi Yonezu  6RH1fEIz8HVXregzz5Xp2B       KICK BACK     SINGLE   \n",
       "2       King Gnu  5sCVCfINkiQ40ozBngqGaY              一途     SINGLE   \n",
       "3       ZUTOMAYO  3wGoYoTJhdbkvn7WZpTqz3              残機     SINGLE   \n",
       "4          結束バンド  5ZGzGGNAB6U7QlKpdaMu0d           結束バンド      ALBUM   \n",
       "\n",
       "  album_release  duration_ms  ... key  loudness  mode  speechiness  \\\n",
       "0    2023-05-11       169573  ...   1    -7.413     1       0.0800   \n",
       "1    2022-10-12       193495  ...   1    -5.170     1       0.1050   \n",
       "2    2021-12-10       190607  ...   2    -4.190     1       0.1240   \n",
       "3    2022-10-18       230067  ...   2    -2.965     1       0.0732   \n",
       "4    2022-12-25       213787  ...   7    -2.762     0       0.1640   \n",
       "\n",
       "   acousticness  instrumentalness  liveness  valence    tempo  time_signature  \n",
       "0       0.87700          0.000765    0.1100    0.743   81.890               3  \n",
       "1       0.00207          0.000003    0.0891    0.292  101.921               4  \n",
       "2       0.00723          0.000062    0.0557    0.662  159.971               4  \n",
       "3       0.40300          0.000000    0.1190    0.849  140.981               4  \n",
       "4       0.00110          0.000001    0.3170    0.275  190.031               4  \n",
       "\n",
       "[5 rows x 23 columns]"
      ]
     },
     "execution_count": 11,
     "metadata": {},
     "output_type": "execute_result"
    }
   ],
   "source": [
    "yearly_top_df.head()"
   ]
  }
 ],
 "metadata": {
  "kernelspec": {
   "display_name": "Python 3",
   "language": "python",
   "name": "python3"
  },
  "language_info": {
   "codemirror_mode": {
    "name": "ipython",
    "version": 3
   },
   "file_extension": ".py",
   "mimetype": "text/x-python",
   "name": "python",
   "nbconvert_exporter": "python",
   "pygments_lexer": "ipython3",
   "version": "3.11.3"
  },
  "orig_nbformat": 4
 },
 "nbformat": 4,
 "nbformat_minor": 2
}
